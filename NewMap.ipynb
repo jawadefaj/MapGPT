{
 "cells": [
  {
   "cell_type": "code",
   "execution_count": 8,
   "metadata": {},
   "outputs": [
    {
     "name": "stdout",
     "output_type": "stream",
     "text": [
      "Defaulting to user installation because normal site-packages is not writeable\n",
      "Requirement already satisfied: openai in c:\\users\\zenbook325e\\appdata\\roaming\\python\\python38\\site-packages (1.21.2)\n",
      "Requirement already satisfied: httpx<1,>=0.23.0 in c:\\users\\zenbook325e\\appdata\\roaming\\python\\python38\\site-packages (from openai) (0.27.0)\n",
      "Requirement already satisfied: anyio<5,>=3.5.0 in c:\\users\\zenbook325e\\appdata\\roaming\\python\\python38\\site-packages (from openai) (3.6.2)\n",
      "Requirement already satisfied: typing-extensions<5,>=4.7 in c:\\users\\zenbook325e\\appdata\\roaming\\python\\python38\\site-packages (from openai) (4.10.0)\n",
      "Requirement already satisfied: sniffio in c:\\users\\zenbook325e\\appdata\\roaming\\python\\python38\\site-packages (from openai) (1.3.0)\n",
      "Requirement already satisfied: tqdm>4 in c:\\users\\zenbook325e\\appdata\\roaming\\python\\python38\\site-packages (from openai) (4.64.1)\n",
      "Requirement already satisfied: pydantic<3,>=1.9.0 in c:\\users\\zenbook325e\\appdata\\roaming\\python\\python38\\site-packages (from openai) (2.7.0)\n",
      "Requirement already satisfied: distro<2,>=1.7.0 in c:\\users\\zenbook325e\\appdata\\roaming\\python\\python38\\site-packages (from openai) (1.9.0)\n",
      "Requirement already satisfied: idna>=2.8 in c:\\users\\zenbook325e\\appdata\\roaming\\python\\python38\\site-packages (from anyio<5,>=3.5.0->openai) (3.7)\n",
      "Requirement already satisfied: httpcore==1.* in c:\\users\\zenbook325e\\appdata\\roaming\\python\\python38\\site-packages (from httpx<1,>=0.23.0->openai) (1.0.5)\n",
      "Requirement already satisfied: certifi in c:\\users\\zenbook325e\\appdata\\roaming\\python\\python38\\site-packages (from httpx<1,>=0.23.0->openai) (2022.12.7)\n",
      "Requirement already satisfied: h11<0.15,>=0.13 in c:\\users\\zenbook325e\\appdata\\roaming\\python\\python38\\site-packages (from httpcore==1.*->httpx<1,>=0.23.0->openai) (0.14.0)\n",
      "Requirement already satisfied: annotated-types>=0.4.0 in c:\\users\\zenbook325e\\appdata\\roaming\\python\\python38\\site-packages (from pydantic<3,>=1.9.0->openai) (0.6.0)\n",
      "Requirement already satisfied: pydantic-core==2.18.1 in c:\\users\\zenbook325e\\appdata\\roaming\\python\\python38\\site-packages (from pydantic<3,>=1.9.0->openai) (2.18.1)\n",
      "Requirement already satisfied: colorama in c:\\users\\zenbook325e\\appdata\\roaming\\python\\python38\\site-packages (from tqdm>4->openai) (0.4.6)\n",
      "Note: you may need to restart the kernel to use updated packages.\n"
     ]
    },
    {
     "name": "stderr",
     "output_type": "stream",
     "text": [
      "\n",
      "[notice] A new release of pip is available: 23.0 -> 24.0\n",
      "[notice] To update, run: python.exe -m pip install --upgrade pip\n",
      "\n",
      "[notice] A new release of pip is available: 23.0 -> 24.0\n",
      "[notice] To update, run: python.exe -m pip install --upgrade pip\n"
     ]
    },
    {
     "name": "stdout",
     "output_type": "stream",
     "text": [
      "Defaulting to user installation because normal site-packages is not writeable\n",
      "Requirement already satisfied: requests in c:\\users\\zenbook325e\\appdata\\roaming\\python\\python38\\site-packages (2.28.2)\n",
      "Requirement already satisfied: certifi>=2017.4.17 in c:\\users\\zenbook325e\\appdata\\roaming\\python\\python38\\site-packages (from requests) (2022.12.7)\n",
      "Requirement already satisfied: urllib3<1.27,>=1.21.1 in c:\\users\\zenbook325e\\appdata\\roaming\\python\\python38\\site-packages (from requests) (1.22)\n",
      "Requirement already satisfied: idna<4,>=2.5 in c:\\users\\zenbook325e\\appdata\\roaming\\python\\python38\\site-packages (from requests) (3.7)\n",
      "Requirement already satisfied: charset-normalizer<4,>=2 in c:\\users\\zenbook325e\\appdata\\roaming\\python\\python38\\site-packages (from requests) (2.1.1)\n",
      "Note: you may need to restart the kernel to use updated packages.\n"
     ]
    }
   ],
   "source": [
    "%pip install openai\n",
    "%pip install requests\n",
    "import requests\n",
    "from openai import OpenAI\n",
    "\n"
   ]
  },
  {
   "cell_type": "code",
   "execution_count": 9,
   "metadata": {},
   "outputs": [],
   "source": [
    "def get_turn_by_turn_directions(source, destination, api_key):\n",
    "    url = f\"https://maps.googleapis.com/maps/api/directions/json?destination=destination&origin=source&key= api_key\"\n",
    "    \n",
    "    response = requests.get(url)\n",
    "    # data = response.json()\n",
    "\n",
    "    if response.status_code == 200:\n",
    "    #convert to json\n",
    "        data = response.json()\n",
    "\n",
    "        routes = data.get(\"routes\", [])\n",
    "        for route in routes:\n",
    "            legs = route.get(\"legs\", [])\n",
    "            for leg in legs:\n",
    "                steps = leg.get(\"steps\", [])\n",
    "                for step in steps:\n",
    "                    step.pop('polyline', None)\n",
    "                    step.pop('overview_polyline', None)\n",
    "    \n",
    "        return data\n",
    "    else:\n",
    "        print(\"Error:\", data[\"status\"])\n",
    "        return None"
   ]
  },
  {
   "cell_type": "code",
   "execution_count": 10,
   "metadata": {},
   "outputs": [],
   "source": [
    "def callgpt(map_response):\n",
    "    client = OpenAI(\n",
    "        api_key= '' #wont let me push an API key \n",
    ")\n",
    "    response = client.chat.completions.create(\n",
    "        model=\"gpt-3.5-turbo\",\n",
    "        messages=[\n",
    "            {\n",
    "                \"role\": \"system\",\n",
    "                #change message \n",
    "                \"content\": \"You will be provided with a JSON, and your task is to create a summary of the trip based on the information from the json file which includes origin and destination,Total distance,Travel time,Route Overview,Iconic store or field or sign while describing the route, Complex road layouts, Speed bumps , Multiple ramps, loops, exits with numerous exits, flyover, roundabout, multiple lane changes to take an exit, merging onto oncoming traffic, being at a stop sign to turn onto the freeway, narrow streets, unfamiliar roads, different speed zones through the route.\"\n",
    "            },\n",
    "            {\n",
    "                \"role\": \"user\",\n",
    "                \"content\": f\"{map_response}\"\n",
    "            }\n",
    "        ],\n",
    "        temperature=0.3,\n",
    "        max_tokens=64,\n",
    "        top_p=1\n",
    "    )"
   ]
  },
  {
   "cell_type": "code",
   "execution_count": 11,
   "metadata": {},
   "outputs": [
    {
     "name": "stdout",
     "output_type": "stream",
     "text": [
      "{'error_message': 'The provided API key is invalid. ', 'routes': [], 'status': 'REQUEST_DENIED'}\n",
      "None\n"
     ]
    }
   ],
   "source": [
    "source = input(\"Enter the source address: \")\n",
    "destination = input(\"Enter the destination address: \")\n",
    "api_key = \"\"\n",
    "\n",
    "directions = get_turn_by_turn_directions(source, destination, api_key)\n",
    "    \n",
    "map_response = directions\n",
    "print(directions)\n",
    "summary = callgpt(directions)\n",
    "print(summary)\n"
   ]
  }
 ],
 "metadata": {
  "kernelspec": {
   "display_name": "Python 3",
   "language": "python",
   "name": "python3"
  },
  "language_info": {
   "codemirror_mode": {
    "name": "ipython",
    "version": 3
   },
   "file_extension": ".py",
   "mimetype": "text/x-python",
   "name": "python",
   "nbconvert_exporter": "python",
   "pygments_lexer": "ipython3",
   "version": "3.8.10"
  }
 },
 "nbformat": 4,
 "nbformat_minor": 2
}
